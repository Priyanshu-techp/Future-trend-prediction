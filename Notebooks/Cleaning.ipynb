{
 "cells": [
  {
   "cell_type": "code",
   "execution_count": 1,
   "id": "207f635a",
   "metadata": {},
   "outputs": [],
   "source": [
    "# import required basic library\n",
    "import pandas as pd\n",
    "import numpy as np\n",
    "import seaborn as sns\n",
    "import matplotlib.pyplot as plt\n",
    "import plotly.express as px\n",
    "\n",
    "# filter the all unnecessary warning\n",
    "import warnings \n",
    "warnings.filterwarnings('ignore')"
   ]
  },
  {
   "cell_type": "code",
   "execution_count": 2,
   "id": "5d6bd76d",
   "metadata": {},
   "outputs": [],
   "source": [
    "# Lode dataset\n",
    "df = pd.read_csv(\"../Data/Amazone_sales_data.csv\")"
   ]
  },
  {
   "cell_type": "code",
   "execution_count": 3,
   "id": "8c677aea",
   "metadata": {},
   "outputs": [
    {
     "data": {
      "text/html": [
       "<div>\n",
       "<style scoped>\n",
       "    .dataframe tbody tr th:only-of-type {\n",
       "        vertical-align: middle;\n",
       "    }\n",
       "\n",
       "    .dataframe tbody tr th {\n",
       "        vertical-align: top;\n",
       "    }\n",
       "\n",
       "    .dataframe thead th {\n",
       "        text-align: right;\n",
       "    }\n",
       "</style>\n",
       "<table border=\"1\" class=\"dataframe\">\n",
       "  <thead>\n",
       "    <tr style=\"text-align: right;\">\n",
       "      <th></th>\n",
       "      <th>asin</th>\n",
       "      <th>title</th>\n",
       "      <th>imgUrl</th>\n",
       "      <th>productURL</th>\n",
       "      <th>stars</th>\n",
       "      <th>reviews</th>\n",
       "      <th>price</th>\n",
       "      <th>isBestSeller</th>\n",
       "      <th>boughtInLastMonth</th>\n",
       "      <th>categoryName</th>\n",
       "    </tr>\n",
       "  </thead>\n",
       "  <tbody>\n",
       "    <tr>\n",
       "      <th>0</th>\n",
       "      <td>B09B96TG33</td>\n",
       "      <td>Echo Dot (5th generation, 2022 release) | Big ...</td>\n",
       "      <td>https://m.media-amazon.com/images/I/71C3lbbeLs...</td>\n",
       "      <td>https://www.amazon.co.uk/dp/B09B96TG33</td>\n",
       "      <td>4.7</td>\n",
       "      <td>15308</td>\n",
       "      <td>19999.0</td>\n",
       "      <td>False</td>\n",
       "      <td>400</td>\n",
       "      <td>Hi-Fi Speakers</td>\n",
       "    </tr>\n",
       "    <tr>\n",
       "      <th>1</th>\n",
       "      <td>B01HTH3C8S</td>\n",
       "      <td>Anker Soundcore mini, Super-Portable Bluetooth...</td>\n",
       "      <td>https://m.media-amazon.com/images/I/61c5rSxwP0...</td>\n",
       "      <td>https://www.amazon.co.uk/dp/B01HTH3C8S</td>\n",
       "      <td>4.7</td>\n",
       "      <td>98099</td>\n",
       "      <td>9999.0</td>\n",
       "      <td>True</td>\n",
       "      <td>500</td>\n",
       "      <td>Hi-Fi Speakers</td>\n",
       "    </tr>\n",
       "    <tr>\n",
       "      <th>2</th>\n",
       "      <td>B09B8YWXDF</td>\n",
       "      <td>Echo Dot (5th generation, 2022 release) | Big ...</td>\n",
       "      <td>https://m.media-amazon.com/images/I/61j3SEUjMJ...</td>\n",
       "      <td>https://www.amazon.co.uk/dp/B09B8YWXDF</td>\n",
       "      <td>4.7</td>\n",
       "      <td>15308</td>\n",
       "      <td>2499.0</td>\n",
       "      <td>False</td>\n",
       "      <td>600</td>\n",
       "      <td>Hi-Fi Speakers</td>\n",
       "    </tr>\n",
       "    <tr>\n",
       "      <th>3</th>\n",
       "      <td>B09B8T5VGV</td>\n",
       "      <td>Echo Dot with clock (5th generation, 2022 rele...</td>\n",
       "      <td>https://m.media-amazon.com/images/I/71yf6yTNWS...</td>\n",
       "      <td>https://www.amazon.co.uk/dp/B09B8T5VGV</td>\n",
       "      <td>4.7</td>\n",
       "      <td>7205</td>\n",
       "      <td>9999.0</td>\n",
       "      <td>False</td>\n",
       "      <td>400</td>\n",
       "      <td>Hi-Fi Speakers</td>\n",
       "    </tr>\n",
       "    <tr>\n",
       "      <th>4</th>\n",
       "      <td>B09WX6QD65</td>\n",
       "      <td>Introducing Echo Pop | Full sound compact Wi-F...</td>\n",
       "      <td>https://m.media-amazon.com/images/I/613dEoF9-r...</td>\n",
       "      <td>https://www.amazon.co.uk/dp/B09WX6QD65</td>\n",
       "      <td>4.6</td>\n",
       "      <td>1881</td>\n",
       "      <td>4999.0</td>\n",
       "      <td>False</td>\n",
       "      <td>100</td>\n",
       "      <td>Hi-Fi Speakers</td>\n",
       "    </tr>\n",
       "  </tbody>\n",
       "</table>\n",
       "</div>"
      ],
      "text/plain": [
       "         asin                                              title  \\\n",
       "0  B09B96TG33  Echo Dot (5th generation, 2022 release) | Big ...   \n",
       "1  B01HTH3C8S  Anker Soundcore mini, Super-Portable Bluetooth...   \n",
       "2  B09B8YWXDF  Echo Dot (5th generation, 2022 release) | Big ...   \n",
       "3  B09B8T5VGV  Echo Dot with clock (5th generation, 2022 rele...   \n",
       "4  B09WX6QD65  Introducing Echo Pop | Full sound compact Wi-F...   \n",
       "\n",
       "                                              imgUrl  \\\n",
       "0  https://m.media-amazon.com/images/I/71C3lbbeLs...   \n",
       "1  https://m.media-amazon.com/images/I/61c5rSxwP0...   \n",
       "2  https://m.media-amazon.com/images/I/61j3SEUjMJ...   \n",
       "3  https://m.media-amazon.com/images/I/71yf6yTNWS...   \n",
       "4  https://m.media-amazon.com/images/I/613dEoF9-r...   \n",
       "\n",
       "                               productURL  stars  reviews    price  \\\n",
       "0  https://www.amazon.co.uk/dp/B09B96TG33    4.7    15308  19999.0   \n",
       "1  https://www.amazon.co.uk/dp/B01HTH3C8S    4.7    98099   9999.0   \n",
       "2  https://www.amazon.co.uk/dp/B09B8YWXDF    4.7    15308   2499.0   \n",
       "3  https://www.amazon.co.uk/dp/B09B8T5VGV    4.7     7205   9999.0   \n",
       "4  https://www.amazon.co.uk/dp/B09WX6QD65    4.6     1881   4999.0   \n",
       "\n",
       "   isBestSeller  boughtInLastMonth    categoryName  \n",
       "0         False                400  Hi-Fi Speakers  \n",
       "1          True                500  Hi-Fi Speakers  \n",
       "2         False                600  Hi-Fi Speakers  \n",
       "3         False                400  Hi-Fi Speakers  \n",
       "4         False                100  Hi-Fi Speakers  "
      ]
     },
     "execution_count": 3,
     "metadata": {},
     "output_type": "execute_result"
    }
   ],
   "source": [
    "df.head()"
   ]
  },
  {
   "cell_type": "markdown",
   "id": "618a827d",
   "metadata": {},
   "source": [
    "Basic information of data set"
   ]
  },
  {
   "cell_type": "code",
   "execution_count": 4,
   "id": "3bc33fcd",
   "metadata": {},
   "outputs": [
    {
     "data": {
      "text/plain": [
       "(300000, 10)"
      ]
     },
     "execution_count": 4,
     "metadata": {},
     "output_type": "execute_result"
    }
   ],
   "source": [
    "df.shape"
   ]
  },
  {
   "cell_type": "code",
   "execution_count": 5,
   "id": "17c7c63d",
   "metadata": {},
   "outputs": [
    {
     "name": "stdout",
     "output_type": "stream",
     "text": [
      "<class 'pandas.core.frame.DataFrame'>\n",
      "RangeIndex: 300000 entries, 0 to 299999\n",
      "Data columns (total 10 columns):\n",
      " #   Column             Non-Null Count   Dtype  \n",
      "---  ------             --------------   -----  \n",
      " 0   asin               300000 non-null  object \n",
      " 1   title              300000 non-null  object \n",
      " 2   imgUrl             300000 non-null  object \n",
      " 3   productURL         300000 non-null  object \n",
      " 4   stars              300000 non-null  float64\n",
      " 5   reviews            300000 non-null  int64  \n",
      " 6   price              300000 non-null  float64\n",
      " 7   isBestSeller       300000 non-null  bool   \n",
      " 8   boughtInLastMonth  300000 non-null  int64  \n",
      " 9   categoryName       300000 non-null  object \n",
      "dtypes: bool(1), float64(2), int64(2), object(5)\n",
      "memory usage: 20.9+ MB\n"
     ]
    }
   ],
   "source": [
    "df.info()"
   ]
  },
  {
   "cell_type": "code",
   "execution_count": 6,
   "id": "e5e7143f",
   "metadata": {},
   "outputs": [
    {
     "data": {
      "text/html": [
       "<div>\n",
       "<style scoped>\n",
       "    .dataframe tbody tr th:only-of-type {\n",
       "        vertical-align: middle;\n",
       "    }\n",
       "\n",
       "    .dataframe tbody tr th {\n",
       "        vertical-align: top;\n",
       "    }\n",
       "\n",
       "    .dataframe thead th {\n",
       "        text-align: right;\n",
       "    }\n",
       "</style>\n",
       "<table border=\"1\" class=\"dataframe\">\n",
       "  <thead>\n",
       "    <tr style=\"text-align: right;\">\n",
       "      <th></th>\n",
       "      <th>stars</th>\n",
       "      <th>reviews</th>\n",
       "      <th>price</th>\n",
       "      <th>boughtInLastMonth</th>\n",
       "    </tr>\n",
       "  </thead>\n",
       "  <tbody>\n",
       "    <tr>\n",
       "      <th>count</th>\n",
       "      <td>300000.000000</td>\n",
       "      <td>300000.000000</td>\n",
       "      <td>300000.000000</td>\n",
       "      <td>300000.000000</td>\n",
       "    </tr>\n",
       "    <tr>\n",
       "      <th>mean</th>\n",
       "      <td>2.799656</td>\n",
       "      <td>450.097400</td>\n",
       "      <td>4003.690011</td>\n",
       "      <td>304.823833</td>\n",
       "    </tr>\n",
       "    <tr>\n",
       "      <th>std</th>\n",
       "      <td>2.104685</td>\n",
       "      <td>2992.874394</td>\n",
       "      <td>6599.918041</td>\n",
       "      <td>284.314014</td>\n",
       "    </tr>\n",
       "    <tr>\n",
       "      <th>min</th>\n",
       "      <td>0.000000</td>\n",
       "      <td>0.000000</td>\n",
       "      <td>0.010000</td>\n",
       "      <td>50.000000</td>\n",
       "    </tr>\n",
       "    <tr>\n",
       "      <th>25%</th>\n",
       "      <td>0.000000</td>\n",
       "      <td>0.000000</td>\n",
       "      <td>16.950000</td>\n",
       "      <td>150.000000</td>\n",
       "    </tr>\n",
       "    <tr>\n",
       "      <th>50%</th>\n",
       "      <td>4.100000</td>\n",
       "      <td>8.000000</td>\n",
       "      <td>199.000000</td>\n",
       "      <td>250.000000</td>\n",
       "    </tr>\n",
       "    <tr>\n",
       "      <th>75%</th>\n",
       "      <td>4.500000</td>\n",
       "      <td>124.000000</td>\n",
       "      <td>6999.000000</td>\n",
       "      <td>500.000000</td>\n",
       "    </tr>\n",
       "    <tr>\n",
       "      <th>max</th>\n",
       "      <td>5.000000</td>\n",
       "      <td>477914.000000</td>\n",
       "      <td>49999.000000</td>\n",
       "      <td>50000.000000</td>\n",
       "    </tr>\n",
       "  </tbody>\n",
       "</table>\n",
       "</div>"
      ],
      "text/plain": [
       "               stars        reviews          price  boughtInLastMonth\n",
       "count  300000.000000  300000.000000  300000.000000      300000.000000\n",
       "mean        2.799656     450.097400    4003.690011         304.823833\n",
       "std         2.104685    2992.874394    6599.918041         284.314014\n",
       "min         0.000000       0.000000       0.010000          50.000000\n",
       "25%         0.000000       0.000000      16.950000         150.000000\n",
       "50%         4.100000       8.000000     199.000000         250.000000\n",
       "75%         4.500000     124.000000    6999.000000         500.000000\n",
       "max         5.000000  477914.000000   49999.000000       50000.000000"
      ]
     },
     "execution_count": 6,
     "metadata": {},
     "output_type": "execute_result"
    }
   ],
   "source": [
    "df.describe()"
   ]
  },
  {
   "cell_type": "markdown",
   "id": "f24116f2",
   "metadata": {},
   "source": [
    "# Droping Extra column"
   ]
  },
  {
   "cell_type": "code",
   "execution_count": 7,
   "id": "450945d2",
   "metadata": {},
   "outputs": [],
   "source": [
    "df = df.drop(columns = ['imgUrl', 'asin', 'productURL'], axis = 1)"
   ]
  },
  {
   "cell_type": "code",
   "execution_count": 8,
   "id": "2118808c",
   "metadata": {},
   "outputs": [
    {
     "data": {
      "text/html": [
       "<div>\n",
       "<style scoped>\n",
       "    .dataframe tbody tr th:only-of-type {\n",
       "        vertical-align: middle;\n",
       "    }\n",
       "\n",
       "    .dataframe tbody tr th {\n",
       "        vertical-align: top;\n",
       "    }\n",
       "\n",
       "    .dataframe thead th {\n",
       "        text-align: right;\n",
       "    }\n",
       "</style>\n",
       "<table border=\"1\" class=\"dataframe\">\n",
       "  <thead>\n",
       "    <tr style=\"text-align: right;\">\n",
       "      <th></th>\n",
       "      <th>title</th>\n",
       "      <th>stars</th>\n",
       "      <th>reviews</th>\n",
       "      <th>price</th>\n",
       "      <th>isBestSeller</th>\n",
       "      <th>boughtInLastMonth</th>\n",
       "      <th>categoryName</th>\n",
       "    </tr>\n",
       "  </thead>\n",
       "  <tbody>\n",
       "    <tr>\n",
       "      <th>0</th>\n",
       "      <td>Echo Dot (5th generation, 2022 release) | Big ...</td>\n",
       "      <td>4.7</td>\n",
       "      <td>15308</td>\n",
       "      <td>19999.0</td>\n",
       "      <td>False</td>\n",
       "      <td>400</td>\n",
       "      <td>Hi-Fi Speakers</td>\n",
       "    </tr>\n",
       "    <tr>\n",
       "      <th>1</th>\n",
       "      <td>Anker Soundcore mini, Super-Portable Bluetooth...</td>\n",
       "      <td>4.7</td>\n",
       "      <td>98099</td>\n",
       "      <td>9999.0</td>\n",
       "      <td>True</td>\n",
       "      <td>500</td>\n",
       "      <td>Hi-Fi Speakers</td>\n",
       "    </tr>\n",
       "    <tr>\n",
       "      <th>2</th>\n",
       "      <td>Echo Dot (5th generation, 2022 release) | Big ...</td>\n",
       "      <td>4.7</td>\n",
       "      <td>15308</td>\n",
       "      <td>2499.0</td>\n",
       "      <td>False</td>\n",
       "      <td>600</td>\n",
       "      <td>Hi-Fi Speakers</td>\n",
       "    </tr>\n",
       "    <tr>\n",
       "      <th>3</th>\n",
       "      <td>Echo Dot with clock (5th generation, 2022 rele...</td>\n",
       "      <td>4.7</td>\n",
       "      <td>7205</td>\n",
       "      <td>9999.0</td>\n",
       "      <td>False</td>\n",
       "      <td>400</td>\n",
       "      <td>Hi-Fi Speakers</td>\n",
       "    </tr>\n",
       "    <tr>\n",
       "      <th>4</th>\n",
       "      <td>Introducing Echo Pop | Full sound compact Wi-F...</td>\n",
       "      <td>4.6</td>\n",
       "      <td>1881</td>\n",
       "      <td>4999.0</td>\n",
       "      <td>False</td>\n",
       "      <td>100</td>\n",
       "      <td>Hi-Fi Speakers</td>\n",
       "    </tr>\n",
       "  </tbody>\n",
       "</table>\n",
       "</div>"
      ],
      "text/plain": [
       "                                               title  stars  reviews    price  \\\n",
       "0  Echo Dot (5th generation, 2022 release) | Big ...    4.7    15308  19999.0   \n",
       "1  Anker Soundcore mini, Super-Portable Bluetooth...    4.7    98099   9999.0   \n",
       "2  Echo Dot (5th generation, 2022 release) | Big ...    4.7    15308   2499.0   \n",
       "3  Echo Dot with clock (5th generation, 2022 rele...    4.7     7205   9999.0   \n",
       "4  Introducing Echo Pop | Full sound compact Wi-F...    4.6     1881   4999.0   \n",
       "\n",
       "   isBestSeller  boughtInLastMonth    categoryName  \n",
       "0         False                400  Hi-Fi Speakers  \n",
       "1          True                500  Hi-Fi Speakers  \n",
       "2         False                600  Hi-Fi Speakers  \n",
       "3         False                400  Hi-Fi Speakers  \n",
       "4         False                100  Hi-Fi Speakers  "
      ]
     },
     "execution_count": 8,
     "metadata": {},
     "output_type": "execute_result"
    }
   ],
   "source": [
    "df.head()"
   ]
  },
  {
   "cell_type": "markdown",
   "id": "2c988316",
   "metadata": {},
   "source": [
    "# Remove null values and remove duplictes"
   ]
  },
  {
   "cell_type": "code",
   "execution_count": 9,
   "id": "a4d2d244",
   "metadata": {},
   "outputs": [
    {
     "data": {
      "text/plain": [
       "title                0\n",
       "stars                0\n",
       "reviews              0\n",
       "price                0\n",
       "isBestSeller         0\n",
       "boughtInLastMonth    0\n",
       "categoryName         0\n",
       "dtype: int64"
      ]
     },
     "execution_count": 9,
     "metadata": {},
     "output_type": "execute_result"
    }
   ],
   "source": [
    "df.isnull().sum()"
   ]
  },
  {
   "cell_type": "code",
   "execution_count": 10,
   "id": "62d5eb8c",
   "metadata": {},
   "outputs": [
    {
     "data": {
      "text/plain": [
       "1029"
      ]
     },
     "execution_count": 10,
     "metadata": {},
     "output_type": "execute_result"
    }
   ],
   "source": [
    "df.duplicated().sum()"
   ]
  },
  {
   "cell_type": "code",
   "execution_count": 11,
   "id": "c2d134f7",
   "metadata": {},
   "outputs": [],
   "source": [
    "df = df.drop_duplicates()"
   ]
  },
  {
   "cell_type": "code",
   "execution_count": 12,
   "id": "70522241",
   "metadata": {},
   "outputs": [
    {
     "data": {
      "text/plain": [
       "(298971, 7)"
      ]
     },
     "execution_count": 12,
     "metadata": {},
     "output_type": "execute_result"
    }
   ],
   "source": [
    "df.shape"
   ]
  },
  {
   "cell_type": "markdown",
   "id": "646bd8ae",
   "metadata": {},
   "source": [
    "# Feature engineering : \n"
   ]
  },
  {
   "cell_type": "code",
   "execution_count": 13,
   "id": "25861c35",
   "metadata": {},
   "outputs": [],
   "source": [
    "# Extract Product name\n",
    "import re\n",
    "def extract_name(title):\n",
    "    name = title.split('|')[0]\n",
    "    name = re.sub(r'\\(.*?\\)', '', name)\n",
    "    return name.strip()"
   ]
  },
  {
   "cell_type": "code",
   "execution_count": 14,
   "id": "6f2a66a1",
   "metadata": {},
   "outputs": [],
   "source": [
    "# Adding product name column\n",
    "df['product_name'] = df['title'].apply(extract_name)"
   ]
  },
  {
   "cell_type": "code",
   "execution_count": 15,
   "id": "79c5410e",
   "metadata": {},
   "outputs": [],
   "source": [
    "df = df.drop(columns = ['title'], axis = 1)"
   ]
  },
  {
   "cell_type": "code",
   "execution_count": 16,
   "id": "b24f0cdc",
   "metadata": {},
   "outputs": [
    {
     "data": {
      "text/html": [
       "<div>\n",
       "<style scoped>\n",
       "    .dataframe tbody tr th:only-of-type {\n",
       "        vertical-align: middle;\n",
       "    }\n",
       "\n",
       "    .dataframe tbody tr th {\n",
       "        vertical-align: top;\n",
       "    }\n",
       "\n",
       "    .dataframe thead th {\n",
       "        text-align: right;\n",
       "    }\n",
       "</style>\n",
       "<table border=\"1\" class=\"dataframe\">\n",
       "  <thead>\n",
       "    <tr style=\"text-align: right;\">\n",
       "      <th></th>\n",
       "      <th>stars</th>\n",
       "      <th>reviews</th>\n",
       "      <th>price</th>\n",
       "      <th>isBestSeller</th>\n",
       "      <th>boughtInLastMonth</th>\n",
       "      <th>categoryName</th>\n",
       "      <th>product_name</th>\n",
       "    </tr>\n",
       "  </thead>\n",
       "  <tbody>\n",
       "    <tr>\n",
       "      <th>0</th>\n",
       "      <td>4.7</td>\n",
       "      <td>15308</td>\n",
       "      <td>19999.0</td>\n",
       "      <td>False</td>\n",
       "      <td>400</td>\n",
       "      <td>Hi-Fi Speakers</td>\n",
       "      <td>Echo Dot</td>\n",
       "    </tr>\n",
       "    <tr>\n",
       "      <th>1</th>\n",
       "      <td>4.7</td>\n",
       "      <td>98099</td>\n",
       "      <td>9999.0</td>\n",
       "      <td>True</td>\n",
       "      <td>500</td>\n",
       "      <td>Hi-Fi Speakers</td>\n",
       "      <td>Anker Soundcore mini, Super-Portable Bluetooth...</td>\n",
       "    </tr>\n",
       "    <tr>\n",
       "      <th>2</th>\n",
       "      <td>4.7</td>\n",
       "      <td>15308</td>\n",
       "      <td>2499.0</td>\n",
       "      <td>False</td>\n",
       "      <td>600</td>\n",
       "      <td>Hi-Fi Speakers</td>\n",
       "      <td>Echo Dot</td>\n",
       "    </tr>\n",
       "    <tr>\n",
       "      <th>3</th>\n",
       "      <td>4.7</td>\n",
       "      <td>7205</td>\n",
       "      <td>9999.0</td>\n",
       "      <td>False</td>\n",
       "      <td>400</td>\n",
       "      <td>Hi-Fi Speakers</td>\n",
       "      <td>Echo Dot with clock</td>\n",
       "    </tr>\n",
       "    <tr>\n",
       "      <th>4</th>\n",
       "      <td>4.6</td>\n",
       "      <td>1881</td>\n",
       "      <td>4999.0</td>\n",
       "      <td>False</td>\n",
       "      <td>100</td>\n",
       "      <td>Hi-Fi Speakers</td>\n",
       "      <td>Introducing Echo Pop</td>\n",
       "    </tr>\n",
       "  </tbody>\n",
       "</table>\n",
       "</div>"
      ],
      "text/plain": [
       "   stars  reviews    price  isBestSeller  boughtInLastMonth    categoryName  \\\n",
       "0    4.7    15308  19999.0         False                400  Hi-Fi Speakers   \n",
       "1    4.7    98099   9999.0          True                500  Hi-Fi Speakers   \n",
       "2    4.7    15308   2499.0         False                600  Hi-Fi Speakers   \n",
       "3    4.7     7205   9999.0         False                400  Hi-Fi Speakers   \n",
       "4    4.6     1881   4999.0         False                100  Hi-Fi Speakers   \n",
       "\n",
       "                                        product_name  \n",
       "0                                           Echo Dot  \n",
       "1  Anker Soundcore mini, Super-Portable Bluetooth...  \n",
       "2                                           Echo Dot  \n",
       "3                                Echo Dot with clock  \n",
       "4                               Introducing Echo Pop  "
      ]
     },
     "execution_count": 16,
     "metadata": {},
     "output_type": "execute_result"
    }
   ],
   "source": [
    "df.head()"
   ]
  },
  {
   "cell_type": "code",
   "execution_count": null,
   "id": "b11dfd54",
   "metadata": {},
   "outputs": [],
   "source": [
    "# add new column popular product\n",
    "\n",
    "conditions = [\n",
    "    (df['stars'] >= 0) & (df['stars'] < 2),\n",
    "    (df['stars'] >= 2) & (df['stars'] < 4),\n",
    "    (df['stars'] >= 4) & (df['stars'] <= 5)\n",
    "]\n",
    "choices = ['Not Popular', 'Average Product', 'Popular Product']\n",
    "df['Product_popularity'] = np.select(conditions, choices, default='Unknown')\n"
   ]
  },
  {
   "cell_type": "code",
   "execution_count": null,
   "id": "f3e26ac0",
   "metadata": {},
   "outputs": [],
   "source": [
    "# add new column Product cost range\n",
    "\n",
    "conditions1 = [\n",
    "    (df['price'] >= 99) & (df['price'] < 5000),\n",
    "    (df['price'] >= 5000) & (df['price'] < 20000),\n",
    "    (df['price'] >= 20000) & (df['price'] <= 40000),\n",
    "    (df['price'] >= 40000) & (df['price'] <= 50000)\n",
    "]\n",
    "choices1 = ['Low cost ', 'Low midrange cost', 'Midrange cost', 'Premium cost']\n",
    "df['Product_cost_range'] = np.select(conditions1, choices1, default='Unknown')"
   ]
  },
  {
   "cell_type": "code",
   "execution_count": null,
   "id": "5bfe5b7e",
   "metadata": {},
   "outputs": [],
   "source": [
    "# add new column DemandOfTheProduct\n",
    "\n",
    "conditions2 = [\n",
    "    (df['boughtInLastMonth'] >= 50) & (df['boughtInLastMonth'] < 200),\n",
    "    (df['boughtInLastMonth'] >= 200) & (df['boughtInLastMonth'] < 500),\n",
    "    (df['boughtInLastMonth'] >= 500) & (df['boughtInLastMonth'] <= 600)\n",
    "]\n",
    "choices2 = ['Low dimand', 'Neutral dimand', 'High dimand']\n",
    "df['DemandOfTheProduct'] = np.select(conditions2, choices2, default='Unknown')"
   ]
  },
  {
   "cell_type": "markdown",
   "id": "be45bce1",
   "metadata": {},
   "source": [
    "# Performing EDA"
   ]
  },
  {
   "cell_type": "code",
   "execution_count": 23,
   "id": "2c004290",
   "metadata": {},
   "outputs": [
    {
     "data": {
      "text/plain": [
       "<Axes: >"
      ]
     },
     "execution_count": 23,
     "metadata": {},
     "output_type": "execute_result"
    },
    {
     "data": {
      "image/png": "[encoded data removed]",
      "text/plain": [
       "<Figure size 1200x600 with 2 Axes>"
      ]
     },
     "metadata": {},
     "output_type": "display_data"
    }
   ],
   "source": [
    "#  Correlation between all numerical columns\n",
    "\n",
    "plt.figure(figsize=(12,6))\n",
    "sns.heatmap(df.corr(numeric_only=True), annot=True, cmap='coolwarm')"
   ]
  },
  {
   "cell_type": "code",
   "execution_count": 24,
   "id": "1316f157",
   "metadata": {},
   "outputs": [],
   "source": [
    "# Seprate my object and numerical columns for visualization\n",
    "\n",
    "num_cols = ['stars', 'reviews', 'price', 'boughtInLastMonth', 'future_trend', 'PricePerUnit']\n",
    "object_col = ['categoryName', 'Product_popularity', 'Product_cost_range', 'DemandOfTheProduct']"
   ]
  },
  {
   "cell_type": "code",
   "execution_count": 25,
   "id": "90e795e5",
   "metadata": {},
   "outputs": [],
   "source": [
    "# Distribution plots\n",
    "# for col in num_cols:\n",
    "#     plt.figure(figsize=(8,4))\n",
    "#     sns.histplot(df[col], kde=True)\n",
    "#     plt.title(f'Distribution of {col}')\n",
    "#     plt.show()\n",
    "     \n",
    "#     # Boxplot to identify outliers\n",
    "#     plt.figure(figsize=(8,4))\n",
    "#     sns.boxplot(x=df[col])\n",
    "#     plt.title(f'Boxplot of {col}')\n",
    "#     plt.show()"
   ]
  },
  {
   "cell_type": "code",
   "execution_count": 26,
   "id": "81bd906b",
   "metadata": {},
   "outputs": [],
   "source": [
    "#  Count plots for categorical columns\n",
    "\n",
    "# for col in object_col:\n",
    "#     print(f'Count of unique values in {col}: {df[col].nunique()}')\n",
    "#     plt.figure(figsize=(10, 6))\n",
    "#     sns.countplot(x=df[col], order=df[col].value_counts().index)\n",
    "#     plt.title(f'Count of {col}')\n",
    "#     plt.xticks(rotation = 90)\n",
    "#     plt.show()"
   ]
  },
  {
   "cell_type": "markdown",
   "id": "7542972d",
   "metadata": {},
   "source": [
    "# Removing outliers from all numerical columns"
   ]
  },
  {
   "cell_type": "code",
   "execution_count": 27,
   "id": "e5ed7599",
   "metadata": {},
   "outputs": [],
   "source": [
    "num_cols = ['stars', 'reviews', 'price', 'boughtInLastMonth']\n",
    "\n",
    "for col in num_cols:\n",
    "    # Calculate IQR bounds\n",
    "    Q1 = df[col].quantile(0.25)\n",
    "    Q3 = df[col].quantile(0.75)\n",
    "    IQR = Q3 - Q1\n",
    "    lower_limit = Q1 - 1.5 * IQR\n",
    "    upper_limit = Q3 + 1.5 * IQR\n",
    "    \n",
    "    # Calculate mean\n",
    "    col_mean = df[col].mean()\n",
    "    \n",
    "    # Replace outliers with mean\n",
    "    df.loc[(df[col] > upper_limit) | (df[col] < lower_limit), col] = col_mean"
   ]
  },
  {
   "cell_type": "code",
   "execution_count": 28,
   "id": "264fc9ee",
   "metadata": {},
   "outputs": [],
   "source": [
    "# Saving my clean data \n",
    "df.to_csv('Cleanded_data.csv', index = False)"
   ]
  },
  {
   "cell_type": "code",
   "execution_count": null,
   "id": "b37e0dd2",
   "metadata": {},
   "outputs": [],
   "source": []
  },
  {
   "cell_type": "code",
   "execution_count": null,
   "id": "6b78cef4",
   "metadata": {},
   "outputs": [],
   "source": []
  }
 ],
 "metadata": {
  "kernelspec": {
   "display_name": "Python 3",
   "language": "python",
   "name": "python3"
  },
  "language_info": {
   "codemirror_mode": {
    "name": "ipython",
    "version": 3
   },
   "file_extension": ".py",
   "mimetype": "text/x-python",
   "name": "python",
   "nbconvert_exporter": "python",
   "pygments_lexer": "ipython3",
   "version": "3.10.9"
  }
 },
 "nbformat": 4,
 "nbformat_minor": 5
}
